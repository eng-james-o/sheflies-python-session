{
 "cells": [
  {
   "cell_type": "markdown",
   "id": "ed139be7",
   "metadata": {},
   "source": [
    "# Goal: to analyse flight log of a drone\n",
    "\n",
    "we are creating a software that analyses the flight data from a drone"
   ]
  },
  {
   "cell_type": "code",
   "execution_count": null,
   "id": "69ea0234",
   "metadata": {},
   "outputs": [],
   "source": [
    "# not implemented yet"
   ]
  },
  {
   "cell_type": "markdown",
   "id": "f00ad5cc",
   "metadata": {},
   "source": [
    "# Goal: to simulate drone flight data"
   ]
  },
  {
   "cell_type": "code",
   "execution_count": null,
   "id": "265b0a85",
   "metadata": {},
   "outputs": [],
   "source": [
    "import csv # comma-separated values\n",
    "from datetime import datetime, timedelta #date and time manipulation\n",
    "import random # access to random numbers"
   ]
  },
  {
   "cell_type": "markdown",
   "id": "292ae25e",
   "metadata": {},
   "source": [
    "Our file should contain the following data\n",
    "\n",
    "- timestamp\n",
    "- latitude\n",
    "- longitude\n",
    "- altitude\n",
    "- battery\n",
    "- speed"
   ]
  },
  {
   "cell_type": "code",
   "execution_count": 10,
   "id": "8027a25f",
   "metadata": {},
   "outputs": [
    {
     "data": {
      "text/plain": [
       "datetime.datetime(2025, 4, 19, 15, 27, 59, 438647)"
      ]
     },
     "execution_count": 10,
     "metadata": {},
     "output_type": "execute_result"
    }
   ],
   "source": [
    "start_time = datetime.now()\n",
    "start_time"
   ]
  },
  {
   "cell_type": "code",
   "execution_count": 11,
   "id": "6b5fc3a5",
   "metadata": {},
   "outputs": [],
   "source": [
    "latitude = 37.7749\n",
    "longitude = -122.4194\n",
    "altitude = 0\n",
    "battery = 100\n",
    "# speed = 0 "
   ]
  },
  {
   "cell_type": "code",
   "execution_count": null,
   "id": "3b4fa0b2",
   "metadata": {},
   "outputs": [
    {
     "name": "stdout",
     "output_type": "stream",
     "text": [
      "Data generation complete.\n"
     ]
    }
   ],
   "source": [
    "# name of the file to store the data\n",
    "filename = \"flight-data.csv\"\n",
    "\n",
    "with open(filename, mode=\"w\") as file:\n",
    "    writer = csv.writer(file)\n",
    "    writer.writerow([\"Timestamp\", \"Latitude\", \"Longitude\", \"Altitude\", \"Battery\", \"Speed\"])\n",
    "\n",
    "    # loop to generate 10 minutes of data, over 10 seconds intervals\n",
    "    for i in range(60):\n",
    "\n",
    "        # generate random data\n",
    "        timestamp = start_time + timedelta(seconds= i * 10)\n",
    "        latitude = random.uniform(-0.0001, 0.0001) + latitude\n",
    "        longitude = random.uniform(-0.0001, 0.0001) + longitude\n",
    "        altitude += random.uniform(1, 2)\n",
    "        battery = battery - random.uniform(0.1, 0.5)\n",
    "        speed = random.uniform(0, 8)\n",
    "\n",
    "        # write the data to the file\n",
    "        writer.writerow([timestamp.strftime(\"%Y-%m-%d %H:%M:%S\"), latitude, longitude, altitude, battery, speed])\n",
    "\n",
    "print(\"Data generation complete.\")\n"
   ]
  },
  {
   "cell_type": "markdown",
   "id": "df080f0e",
   "metadata": {},
   "source": [
    "[Linkedin - James Oluwadare](https://linkedin.com/in/eng-james-o)"
   ]
  }
 ],
 "metadata": {
  "kernelspec": {
   "display_name": "Python 3",
   "language": "python",
   "name": "python3"
  },
  "language_info": {
   "codemirror_mode": {
    "name": "ipython",
    "version": 3
   },
   "file_extension": ".py",
   "mimetype": "text/x-python",
   "name": "python",
   "nbconvert_exporter": "python",
   "pygments_lexer": "ipython3",
   "version": "3.9.6"
  }
 },
 "nbformat": 4,
 "nbformat_minor": 5
}
